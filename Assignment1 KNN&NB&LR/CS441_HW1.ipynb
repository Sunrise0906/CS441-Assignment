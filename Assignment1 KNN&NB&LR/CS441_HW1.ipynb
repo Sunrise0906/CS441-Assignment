{
 "cells": [
  {
   "cell_type": "markdown",
   "metadata": {
    "id": "Gd7scc-8QJvE",
    "pycharm": {
     "name": "#%% md\n"
    }
   },
   "source": [
    "## CS441: Applied ML - HW 1"
   ]
  },
  {
   "cell_type": "markdown",
   "metadata": {
    "id": "QagOldZDQJvG",
    "pycharm": {
     "name": "#%% md\n"
    }
   },
   "source": [
    "### Part I: MNIST Classification\n",
    "\n",
    "Include all the code for Part 1 in this section"
   ]
  },
  {
   "cell_type": "code",
   "execution_count": 136,
   "metadata": {
    "id": "vO_W4UH7NNBo",
    "pycharm": {
     "name": "#%%\n"
    }
   },
   "outputs": [],
   "source": [
    "# initialization code\n",
    "import numpy as np\n",
    "from keras.datasets import mnist\n",
    "%matplotlib inline\n",
    "from matplotlib import pyplot as plt\n",
    "from scipy import stats\n",
    "from sklearn.linear_model import LogisticRegression\n",
    "from sklearn.metrics import confusion_matrix\n",
    "from scipy.ndimage.interpolation import shift\n",
    "\n",
    "from collections import Counter\n",
    "import time\n",
    "import warnings\n",
    "\n",
    "warnings.filterwarnings('ignore')\n",
    "\n",
    "# loads MNIST data and reformat to 768-d vectors with values in range 0 to 1\n",
    "# splits into train/val/test sets and provides indices for subsets of train\n",
    "def load_mnist():\n",
    "    (x_train, y_train), (x_test, y_test) = mnist.load_data()\n",
    "    x_train = np.reshape(x_train, (len(x_train), 28*28))\n",
    "    x_test = np.reshape(x_test, (len(x_test), 28*28))\n",
    "    maxval = x_train.max()\n",
    "    x_train = x_train/maxval\n",
    "    x_test = x_test/maxval\n",
    "    x_val = x_train[:10000]\n",
    "    y_val = y_train[:10000]\n",
    "    x_train = x_train[10000:]\n",
    "    y_train = y_train[10000:]\n",
    "    train_indices = dict()\n",
    "    train_indices['xs'] = np.arange(50)\n",
    "    train_indices['s'] = np.arange(500)\n",
    "    train_indices['m'] = np.arange(5000)\n",
    "    train_indices['all'] = np.arange(50000)\n",
    "    return (x_train, y_train), (x_val, y_val), (x_test, y_test), train_indices\n",
    "\n",
    "# displays a set of mnist images\n",
    "def display_mnist(x, subplot_rows=1, subplot_cols=1):\n",
    "    if subplot_rows>1 or subplot_cols>1:\n",
    "        fig, ax = plt.subplots(subplot_rows, subplot_cols, figsize=(15,15))\n",
    "        for i in np.arange(len(x)):\n",
    "            ax[i].imshow(np.reshape(x[i], (28,28)), cmap='gray')\n",
    "            ax[i].axis('off')\n",
    "    else:\n",
    "        plt.imshow(np.reshape(x, (28,28)), cmap='gray')\n",
    "        plt.axis('off')\n",
    "    plt.show()\n",
    "\n",
    "# counts the number of examples per class\n",
    "def class_count_mnist(y):\n",
    "    count = np.zeros((10,),dtype='uint32')\n",
    "    for i in np.arange(10):\n",
    "        count[i] = sum(y==i)\n",
    "    return count"
   ]
  },
  {
   "cell_type": "code",
   "source": [
    "# example of using MNIST load, display, indices, and count functions\n",
    "(x_train, y_train), (x_val, y_val), (x_test, y_test), train_indices = load_mnist()\n",
    "display_mnist(x_train[:10],1,10)\n",
    "print('Total size: train={}, val={}, test ={}'.format(len(x_train), len(x_val), len(x_test)))\n",
    "print('Train subset size: xs={}, s={}, m={}, all={}'.format(len(train_indices['xs']),len(train_indices['s']),len(train_indices['m']),len(train_indices['all'])))\n",
    "print('Class count for s: {}'.format(class_count_mnist(y_train[train_indices['s']])))"
   ],
   "metadata": {
    "id": "-PwqmwHdhpox",
    "outputId": "d21bbdf2-dfbf-46f5-9efc-d3ed882b9d4f",
    "colab": {
     "base_uri": "https://localhost:8080/",
     "height": 156
    },
    "pycharm": {
     "name": "#%%\n"
    }
   },
   "execution_count": 137,
   "outputs": [
    {
     "data": {
      "text/plain": "<Figure size 1080x1080 with 10 Axes>",
      "image/png": "[encoded data removed]"
     },
     "metadata": {
      "needs_background": "light"
     },
     "output_type": "display_data"
    },
    {
     "name": "stdout",
     "output_type": "stream",
     "text": [
      "Total size: train=50000, val=10000, test =10000\n",
      "Train subset size: xs=50, s=500, m=5000, all=50000\n",
      "Class count for s: [56 57 51 49 46 46 50 51 40 54]\n"
     ]
    }
   ]
  },
  {
   "cell_type": "code",
   "execution_count": 89,
   "metadata": {
    "id": "szEj_VKfORbU",
    "pycharm": {
     "name": "#%%\n"
    }
   },
   "outputs": [],
   "source": [
    "# This is a suggested function definition for KNN, but feel free to change it\n",
    "def classify_KNN(X_trn, y_trn, X_tst, K=1):\n",
    "    '''\n",
    "    Classify each data point in X_tst using a K-nearest neighbor classifier based on (X_trn, y_trn), with L2 distance.\n",
    "    Input: X_trn[i] is the ith training data. y_trn[i] is the ith training label.\n",
    "           X_tst[i] is the ith example to classify.  K is the number of closest neighbors to use.\n",
    "    Output: return y_pred, where y_pred[i] is the predicted ith test label\n",
    "    '''\n",
    "\n",
    "    # needs code here\n",
    "    y_pred = np.zeros((len(X_tst), 1))\n",
    "\n",
    "    for i in range(len(X_tst)):\n",
    "        dist = np.sqrt(np.sum((X_tst[i] - X_trn) ** 2, axis=1)) # (N, 1)\n",
    "        topK_label = y_trn[np.argsort(dist)[:K]]\n",
    "\n",
    "        # count for the most common y\n",
    "        if K != 1:\n",
    "            c = Counter(topK_label)\n",
    "            # print(c)\n",
    "            label = c.most_common(1)[0][0]\n",
    "            y_pred[i] = label\n",
    "        else:\n",
    "            y_pred[i] = topK_label[0]\n",
    "\n",
    "    return np.squeeze(y_pred)"
   ]
  },
  {
   "cell_type": "code",
   "source": [
    "# experiment KNN a\n",
    "x_trn = x_train[train_indices['all']]\n",
    "y_trn = y_train[train_indices['all']]\n",
    "\n",
    "start = time.time()\n",
    "y_pred = classify_KNN(x_trn, y_trn, x_val)\n",
    "print(\"Shape of y_pred: \", y_pred.shape)\n",
    "print(y_val.shape)\n",
    "end = time.time()\n",
    "\n",
    "print(\"Training time for KNN is 0 s. \")\n",
    "print(f\"Average inference time for one example: {(end - start) / x_val.shape[0] * 1000} ms. \")\n",
    "\n",
    "# report validation error\n",
    "print(f\"validation error: {np.sum(y_pred != y_val) / y_pred.shape[0]}\")\n",
    "\n",
    "# report confusion matrix\n",
    "print(\"Confusion matrix for KNN (K=1): \\n\")\n",
    "print(confusion_matrix(y_val, y_pred))\n"
   ],
   "metadata": {
    "id": "EzJ01jwvt_YL",
    "colab": {
     "base_uri": "https://localhost:8080/"
    },
    "outputId": "7d45f0ba-9490-4d6b-ce10-bf17bd07c9b3",
    "pycharm": {
     "name": "#%%\n"
    }
   },
   "execution_count": 43,
   "outputs": [
    {
     "name": "stdout",
     "output_type": "stream",
     "text": [
      "Shape of y_pred:  (10000,)\n",
      "(10000,)\n",
      "Training time for KNN is 0 s. \n",
      "Average inference time for one example: 218.44338574409485 ms. \n",
      "validation error: 0.0304\n",
      "Confusion matrix for KNN (K=1): \n",
      "\n",
      "[[ 994    1    0    0    0    0    3    1    1    1]\n",
      " [   0 1123    0    0    0    0    0    2    1    1]\n",
      " [   6   12  944    8    0    1    1   13    2    4]\n",
      " [   2    1    2  982    0   18    2   10    8    7]\n",
      " [   0    6    1    0  941    0    2    2    0   28]\n",
      " [   2    1    1   14    1  829    9    0    3    3]\n",
      " [   4    4    0    0    1    1 1003    0    1    0]\n",
      " [   1    5    4    0    0    0    0 1051    0    9]\n",
      " [   5   12    4   12    7   10    5    4  879    6]\n",
      " [   3    0    0    2    8    2    1   11    1  950]]\n"
     ]
    }
   ]
  },
  {
   "cell_type": "code",
   "execution_count": 90,
   "metadata": {
    "id": "lZCd60v4UXE5",
    "pycharm": {
     "name": "#%%\n"
    }
   },
   "outputs": [],
   "source": [
    "class NaiveBayesDiscrete:\n",
    "\n",
    "    def __init__(self, alpha=1):\n",
    "        self.alpha = alpha\n",
    "        self.prior = None\n",
    "        self.pxy = None\n",
    "\n",
    "    def train(self, X, y):\n",
    "        \"\"\"\n",
    "        Train P(x_f=v|y=c) for each feature f, value v, and class c.  Can assume 10 classes and that the features are binary variables\n",
    "        Input: X[i] is the ith training data. y[i] is the ith training label. alpha is the count prior\n",
    "        Output: return pxy of shape (Nf, 10, 2), where Nf is the number of features; pxy[f,c,v] is P(x_f=v|y=c)\n",
    "                priori: P_class\n",
    "        \"\"\"\n",
    "        # map feature into 0, 1\n",
    "        X_norm = np.zeros(X.shape, dtype=int)\n",
    "        X_norm[np.where(X > 0.5)] = 1\n",
    "\n",
    "        # form matrix pxy and prior\n",
    "        N, d = X_norm.shape\n",
    "        C = len(np.unique(y))\n",
    "        self.prior = np.zeros(C)\n",
    "        self.pxy = np.zeros((d, C, 2))  # (784, 10, 2)\n",
    "\n",
    "        for c in range(10):\n",
    "            # count for label c\n",
    "            f_sum = np.sum(X_norm[y == c], axis=0)  # (d, )\n",
    "            c_sum = np.sum(y == c)\n",
    "            # update pxy and prior\n",
    "            self.pxy[:, c, 1] = (f_sum + self.alpha) / (c_sum + 2 * self.alpha)\n",
    "            self.pxy[:, c, 0] = 1 - self.pxy[:, c, 1]\n",
    "            self.prior[c] = c_sum / N\n",
    "\n",
    "    def predict(self, X):\n",
    "        \"\"\"\n",
    "        Evaluate naive bayes for mnist\n",
    "        Input: pxy is the trained model; X is the test data\n",
    "        Output: return y_pred, where y_pred[i] is the predicted ith test label\n",
    "        \"\"\"\n",
    "        y_pred = np.zeros(X.shape[0], dtype=int)\n",
    "        # normalize feature\n",
    "        X_norm = np.zeros(X.shape, dtype=int)\n",
    "        X_norm[np.where(X > 0.5)] = 1\n",
    "\n",
    "        for i in range(len(X_norm)):\n",
    "            pfc = np.abs(X_norm[i] + self.pxy[:, :, 1].transpose() - 1) # (10, 784)\n",
    "            log_pfc = np.log(pfc + 1e-5)\n",
    "            log_pc = np.log(self.prior)\n",
    "            P_c = log_pc + np.sum(log_pfc, axis=1)\n",
    "\n",
    "            y_pred[i] = np.argmax(P_c)\n",
    "\n",
    "        return y_pred"
   ]
  },
  {
   "cell_type": "code",
   "execution_count": 91,
   "outputs": [
    {
     "name": "stdout",
     "output_type": "stream",
     "text": [
      "Training time for NB is 0.29471635818481445 s. \n",
      "Average inference time for one example: 0.121700119972229 ms. \n",
      "Validation error: 0.1634\n"
     ]
    }
   ],
   "source": [
    "# experiment NB\n",
    "x_trn = x_train[train_indices['all']]\n",
    "y_trn = y_train[train_indices['all']]\n",
    "NB = NaiveBayesDiscrete(alpha=1)\n",
    "\n",
    "# train\n",
    "start = time.time()\n",
    "NB.train(x_trn, y_trn)\n",
    "end = time.time()\n",
    "print(f\"Training time for NB is {end - start} s. \")\n",
    "\n",
    "\n",
    "# evaluate\n",
    "start = time.time()\n",
    "y_pred = NB.predict(x_val)\n",
    "end = time.time()\n",
    "print(f\"Average inference time for one example: {(end - start) / x_val.shape[0] * 1000} ms. \")\n",
    "\n",
    "# report validation error\n",
    "print(f\"Validation error: {np.sum(y_pred != y_val) / y_pred.shape[0]}\")"
   ],
   "metadata": {
    "collapsed": false,
    "pycharm": {
     "name": "#%%\n"
    }
   }
  },
  {
   "cell_type": "code",
   "source": [
    "# don't forget logistic regression!\n",
    "x_trn = x_train[train_indices['all']]\n",
    "y_trn = y_train[train_indices['all']]\n",
    "\n",
    "# train\n",
    "start = time.time()\n",
    "cls = LogisticRegression().fit(x_trn, y_trn)\n",
    "end = time.time()\n",
    "print(f\"Training time for LR is {end - start} s. \")\n",
    "\n",
    "# evaluate\n",
    "start = time.time()\n",
    "y_pred = cls.predict(x_val)\n",
    "end = time.time()\n",
    "print(f\"Average inference time for one example: {(end - start) / x_val.shape[0] * 1000} ms. \")\n",
    "\n",
    "# report validation error\n",
    "print(f\"Validation error: {np.sum(y_pred != y_val) / y_pred.shape[0]}\")"
   ],
   "metadata": {
    "id": "tbzXogNvhAx6",
    "pycharm": {
     "name": "#%%\n"
    }
   },
   "execution_count": 92,
   "outputs": [
    {
     "name": "stdout",
     "output_type": "stream",
     "text": [
      "Training time for LR is 7.791572570800781 s. \n",
      "Average inference time for one example: 0.0015618324279785157 ms. \n",
      "Validation error: 0.0753\n"
     ]
    }
   ]
  },
  {
   "cell_type": "code",
   "source": [
    "# experiments code\n",
    "train_size = {'xs': 50, 's': 500, 'm': 5000} # 'all': 50000\n",
    "all_error = np.array([0.0304, 0.1634, 0.0753])  # error for all train set from (a)\n",
    "val_error = np.zeros((3, 4))\n",
    "val_error[:, -1] = all_error\n",
    "\n",
    "for i, size in enumerate(train_size.keys()):\n",
    "    x_trn = x_train[train_indices[size]]\n",
    "    y_trn = y_train[train_indices[size]]\n",
    "\n",
    "    # KNN\n",
    "    y_pred = classify_KNN(x_trn, y_trn, x_val)\n",
    "    val_error[0, i] = np.sum(y_pred != y_val) / y_pred.shape[0]\n",
    "    # NB\n",
    "    NB = NaiveBayesDiscrete(alpha=1)\n",
    "    NB.train(x_trn, y_trn)\n",
    "    y_pred = NB.predict(x_val)\n",
    "    val_error[1, i] = np.sum(y_pred != y_val) / y_pred.shape[0]\n",
    "    # LR\n",
    "    cls = LogisticRegression().fit(x_trn, y_trn)\n",
    "    y_pred = cls.predict(x_val)\n",
    "    val_error[2, i] = np.sum(y_pred != y_val) / y_pred.shape[0]\n",
    "\n",
    "print(val_error)"
   ],
   "metadata": {
    "id": "uLvi7Yj-ebAa",
    "pycharm": {
     "name": "#%%\n"
    }
   },
   "execution_count": 44,
   "outputs": [
    {
     "name": "stdout",
     "output_type": "stream",
     "text": [
      "[[0.3372 0.1611 0.0682 0.0304]\n",
      " [0.4749 0.2393 0.1695 0.1634]\n",
      " [0.3503 0.1534 0.1085 0.0753]]\n"
     ]
    }
   ]
  },
  {
   "cell_type": "code",
   "execution_count": 45,
   "outputs": [
    {
     "name": "stdout",
     "output_type": "stream",
     "text": [
      "Validation Error:\n",
      "KNN:  {'50': 0.3372, '500': 0.1611, '5000': 0.0682, '50000': 0.0304}\n",
      "NB:  {'50': 0.4749, '500': 0.2393, '5000': 0.1695, '50000': 0.1634}\n",
      "LR:  {'50': 0.3503, '500': 0.1534, '5000': 0.1085, '50000': 0.0753}\n"
     ]
    },
    {
     "data": {
      "text/plain": "<Figure size 432x288 with 1 Axes>",
      "image/png": "[encoded data removed]"
     },
     "metadata": {
      "needs_background": "light"
     },
     "output_type": "display_data"
    }
   ],
   "source": [
    "# plot validation error V.S. training size\n",
    "plt.figure()\n",
    "x = ['50', '500', \"5000\", \"50000\"]\n",
    "plt.xlabel(\"Train Size\")\n",
    "plt.ylabel(\"Validation Error\")\n",
    "plt.plot(x, val_error[0, :], color='r', label='KNN')\n",
    "plt.plot(x, val_error[1, :], color='g', label='NB')\n",
    "plt.plot(x, val_error[2, :], color='b', label='LR')\n",
    "plt.legend()\n",
    "\n",
    "print(f'Validation Error:')\n",
    "print(\"KNN: \", dict(zip(x, val_error[0, :])))\n",
    "print(\"NB: \", dict(zip(x, val_error[1, :])))\n",
    "print(\"LR: \", dict(zip(x, val_error[2, :])))"
   ],
   "metadata": {
    "collapsed": false,
    "pycharm": {
     "name": "#%%\n"
    }
   }
  },
  {
   "cell_type": "code",
   "execution_count": 93,
   "outputs": [],
   "source": [
    "x_trn = x_train[train_indices['s']]\n",
    "y_trn = y_train[train_indices['s']]"
   ],
   "metadata": {
    "collapsed": false,
    "pycharm": {
     "name": "#%%\n"
    }
   }
  },
  {
   "cell_type": "code",
   "execution_count": 47,
   "outputs": [
    {
     "name": "stdout",
     "output_type": "stream",
     "text": [
      "The best K for KNN is 1\n",
      "[0.1611 0.1611 0.1703 0.1692 0.1816 0.1799 0.1921 0.1955 0.2059 0.2083]\n"
     ]
    }
   ],
   "source": [
    "# KNN (c)\n",
    "# K can be any integer, I choose 1...10 which is reasonable\n",
    "K_list = range(1, 11)\n",
    "val_error = np.zeros(len(K_list))\n",
    "for i, K in enumerate(K_list):\n",
    "    y_pred = classify_KNN(x_trn, y_trn, x_val, K=K)\n",
    "    val_error[i] = np.sum(y_pred != y_val) / y_pred.shape[0]\n",
    "\n",
    "print(f\"The best K for KNN is {np.argmin(val_error) + 1}\")\n",
    "print(val_error)"
   ],
   "metadata": {
    "collapsed": false,
    "pycharm": {
     "name": "#%%\n"
    }
   }
  },
  {
   "cell_type": "code",
   "execution_count": 94,
   "outputs": [
    {
     "name": "stdout",
     "output_type": "stream",
     "text": [
      "Test error for K=1: 0.1622\n"
     ]
    }
   ],
   "source": [
    "y_pred = classify_KNN(x_trn, y_trn, x_test, K=1)\n",
    "print(f\"Test error for K=1: {np.sum(y_pred != y_test) / y_pred.shape[0]}\")"
   ],
   "metadata": {
    "collapsed": false,
    "pycharm": {
     "name": "#%%\n"
    }
   }
  },
  {
   "cell_type": "code",
   "execution_count": 49,
   "outputs": [
    {
     "name": "stdout",
     "output_type": "stream",
     "text": [
      "The best alpha for NB is 0.1\n",
      "[0.2163 0.2199 0.2236 0.2258 0.2284 0.2301 0.2327 0.2348 0.2363 0.2393\n",
      " 0.2411 0.2426 0.2444 0.2462 0.2483 0.2495 0.2511 0.2518 0.2535 0.2551]\n"
     ]
    }
   ],
   "source": [
    "# NB (c)\n",
    "alpha_list = np.linspace(0.1, 2, 20)\n",
    "val_error = np.zeros(len(alpha_list))\n",
    "for i, alpha in enumerate(alpha_list):\n",
    "    NB = NaiveBayesDiscrete(alpha=alpha)\n",
    "    NB.train(x_trn, y_trn)\n",
    "    y_pred = NB.predict(x_val)\n",
    "    val_error[i] = np.sum(y_pred != y_val) / y_pred.shape[0]\n",
    "\n",
    "print(f\"The best alpha for NB is {(np.argmin(val_error) + 1) * 0.1}\")\n",
    "print(val_error)"
   ],
   "metadata": {
    "collapsed": false,
    "pycharm": {
     "name": "#%%\n"
    }
   }
  },
  {
   "cell_type": "code",
   "execution_count": 95,
   "outputs": [
    {
     "name": "stdout",
     "output_type": "stream",
     "text": [
      "Test error for alpha=0.1: 0.2023\n"
     ]
    }
   ],
   "source": [
    "NB = NaiveBayesDiscrete(alpha=0.1)\n",
    "NB.train(x_trn, y_trn)\n",
    "y_pred = NB.predict(x_test)\n",
    "print(f\"Test error for alpha=0.1: {np.sum(y_pred != y_test) / y_pred.shape[0]}\")"
   ],
   "metadata": {
    "collapsed": false,
    "pycharm": {
     "name": "#%%\n"
    }
   }
  },
  {
   "cell_type": "code",
   "execution_count": 50,
   "outputs": [
    {
     "name": "stdout",
     "output_type": "stream",
     "text": [
      "The best C for LR is 0.7\n",
      "[0.1563 0.1541 0.154  0.154  0.1538 0.1534 0.1531 0.1537 0.1536 0.1534\n",
      " 0.154  0.1533 0.1535 0.1534 0.1533 0.1532 0.1536 0.1533 0.154  0.1538]\n"
     ]
    }
   ],
   "source": [
    "# LR (c)\n",
    "C_list = np.linspace(0.1, 2, 20)\n",
    "for i, C in enumerate(C_list):\n",
    "    cls = LogisticRegression(C=C).fit(x_trn, y_trn)\n",
    "    y_pred = cls.predict(x_val)\n",
    "    val_error[i] = np.sum(y_pred != y_val) / y_pred.shape[0]\n",
    "\n",
    "print(f\"The best C for LR is {(np.argmin(val_error) + 1) * 0.1:.1f}\")\n",
    "print(val_error)"
   ],
   "metadata": {
    "collapsed": false,
    "pycharm": {
     "name": "#%%\n"
    }
   }
  },
  {
   "cell_type": "code",
   "execution_count": 97,
   "outputs": [
    {
     "name": "stdout",
     "output_type": "stream",
     "text": [
      "Test error for C=0.7: 0.1481\n"
     ]
    }
   ],
   "source": [
    "cls = LogisticRegression(C=0.7).fit(x_trn, y_trn)\n",
    "y_pred = cls.predict(x_test)\n",
    "print(f\"Test error for C=0.7: {np.sum(y_pred != y_test) / y_pred.shape[0]}\")"
   ],
   "metadata": {
    "collapsed": false,
    "pycharm": {
     "name": "#%%\n"
    }
   }
  },
  {
   "cell_type": "markdown",
   "source": [
    "## Part 2: Temperature Regression\n",
    "\n",
    "Include all your code for part 2 in this section.  You can copy-paste code from part 1 if it is re-usable."
   ],
   "metadata": {
    "id": "F49MYTryhPJB",
    "pycharm": {
     "name": "#%% md\n"
    }
   }
  },
  {
   "cell_type": "code",
   "source": [
    "import numpy as np\n",
    "# from google.colab import drive\n",
    "%matplotlib inline\n",
    "from matplotlib import pyplot as plt\n",
    "from sklearn.linear_model import Ridge\n",
    "from sklearn.linear_model import Lasso\n",
    "\n",
    "# load data (modify to match your data directory or comment)\n",
    "def load_temp_data():\n",
    "    # drive.mount('/content/drive')\n",
    "    # datadir = \"/content/drive/My Drive/CS441/hw1/\"\n",
    "    T = np.load('temperature_data.npz')\n",
    "    x_train, y_train, x_val, y_val, x_test, y_test, dates_train, dates_val, dates_test, feature_to_city, feature_to_day = \\\n",
    "  T['x_train'], T['y_train'], T['x_val'], T['y_val'], T['x_test'], T['y_test'], T['dates_train'], T['dates_val'], T['dates_test'], T['feature_to_city'], T['feature_to_day']\n",
    "    return (x_train, y_train, x_val, y_val, x_test, y_test, dates_train, dates_val, dates_test, feature_to_city, feature_to_day)\n",
    "\n",
    "# plot one data point for listed cities and target temperature\n",
    "def plot_temps(x, y, cities, feature_to_city, feature_to_day, target_date):\n",
    "    nc = len(cities)\n",
    "    ndays = 5\n",
    "    xplot = np.array([-5,-4,-3,-2,-1])\n",
    "    yplot = np.zeros((nc,ndays))\n",
    "    for f in np.arange(len(x)):\n",
    "        for c in np.arange(nc):\n",
    "            if cities[c]==feature_to_city[f]:\n",
    "                yplot[feature_to_day[f]+ndays,c] = x[f]\n",
    "    plt.plot(xplot,yplot)\n",
    "    plt.legend(cities)\n",
    "    plt.plot(0, y, 'b*', markersize=10)\n",
    "    plt.title('Predict Temp for Cleveland on ' + target_date)\n",
    "    plt.xlabel('Day')\n",
    "    plt.ylabel('Avg Temp (C)')\n",
    "    plt.show()"
   ],
   "metadata": {
    "id": "4PG1tNzr1tSO",
    "pycharm": {
     "name": "#%%\n"
    }
   },
   "execution_count": 142,
   "outputs": []
  },
  {
   "cell_type": "code",
   "source": [
    "# load data (may need to modify file location in preceding cell)\n",
    "(x_train, y_train, x_val, y_val, x_test, y_test, dates_train, dates_val, dates_test, feature_to_city, feature_to_day) = load_temp_data()\n",
    "\n",
    "# example of displaying information related to a feature index\n",
    "f = 361\n",
    "print('Feature {}: city = {}, day= {}'.format(f,feature_to_city[f], feature_to_day[f]))\n",
    "\n",
    "# example of computing RMSE and median absolute error (for baseline of predicting based on previous day's temperature in Cleveland)\n",
    "baseline_rmse = np.sqrt(np.mean((y_val[1:]-y_val[:-1])**2)) # root mean squared error\n",
    "baseline_mae = np.median(np.abs(y_val[1:]-y_val[:-1])) # median absolute error\n",
    "print('Baseline - predict same as previous day: RMSE={}, MAE={}'.format(baseline_rmse, baseline_mae))\n",
    "\n",
    "# plots temperatures for preceding days for given cities, and target (Cleveland) temp\n",
    "plot_temps(x_val[0], y_val[0], ['Cleveland', 'New York', 'Chicago', 'Denver', 'St. Louis'], feature_to_city, feature_to_day, dates_val[0])\n",
    "plot_temps(x_val[100], y_val[100], ['Cleveland', 'New York', 'Chicago', 'Denver', 'St. Louis'], feature_to_city, feature_to_day, dates_val[1])"
   ],
   "metadata": {
    "id": "zZ6shFfVHlpZ",
    "pycharm": {
     "name": "#%%\n"
    }
   },
   "execution_count": 143,
   "outputs": [
    {
     "name": "stdout",
     "output_type": "stream",
     "text": [
      "Feature 361: city = Cleveland, day= -1\n",
      "Baseline - predict same as previous day: RMSE=3.460601246750482, MAE=1.9500000000000006\n"
     ]
    },
    {
     "data": {
      "text/plain": "<Figure size 432x288 with 1 Axes>",
      "image/png": "[encoded data removed]"
     },
     "metadata": {
      "needs_background": "light"
     },
     "output_type": "display_data"
    },
    {
     "data": {
      "text/plain": "<Figure size 432x288 with 1 Axes>",
      "image/png": "[encoded data removed]"
     },
     "metadata": {
      "needs_background": "light"
     },
     "output_type": "display_data"
    }
   ]
  },
  {
   "cell_type": "code",
   "execution_count": 111,
   "outputs": [],
   "source": [
    "# print(x_train.shape)\n",
    "# print(y_train.shape)\n",
    "# print(y_val[:10])\n",
    "# print(x_val.shape)\n",
    "# print(y_val.shape)\n",
    "# print(dates_train[:10])\n",
    "# print(dates_val[:10])\n",
    "# print(feature_to_city[:83])\n",
    "# print(feature_to_city[83:166])\n",
    "# print(feature_to_day[:83])"
   ],
   "metadata": {
    "collapsed": false,
    "pycharm": {
     "name": "#%%\n"
    }
   }
  },
  {
   "cell_type": "code",
   "execution_count": 112,
   "metadata": {
    "id": "ERcv0wIcQnWB",
    "pycharm": {
     "name": "#%%\n"
    }
   },
   "outputs": [],
   "source": [
    "# This is a suggested function definition for KNN, but feel free to change it\n",
    "def classify_KNN_avg(X_trn, y_trn, X_tst, K=3):\n",
    "    '''\n",
    "    Classify each data point in X_tst using a K-nearest neighbor classifier based on (X_trn, y_trn), with L2 distance.\n",
    "    Input: X_trn[i] is the ith training data. y_trn[i] is the ith training label. K is the number of closest neighbors to use.\n",
    "    Output: return y_pred, where y_pred[i] is the predicted ith test label\n",
    "    '''\n",
    "    # needs code\n",
    "    y_pred = np.zeros((len(X_tst), 1))\n",
    "\n",
    "    for i in range(len(X_tst)):\n",
    "        dist = np.sqrt(np.sum((X_tst[i] - X_trn) ** 2, axis=1)) # (N, 1)\n",
    "        topK_label = y_trn[np.argsort(dist)[:K]]\n",
    "\n",
    "        # count for the most common y\n",
    "        if K != 1:\n",
    "            label = np.sum(topK_label) / K\n",
    "            y_pred[i] = label\n",
    "        else:\n",
    "            y_pred[i] = topK_label[0]\n",
    "\n",
    "    return np.squeeze(y_pred)"
   ]
  },
  {
   "cell_type": "code",
   "execution_count": 101,
   "outputs": [
    {
     "name": "stdout",
     "output_type": "stream",
     "text": [
      "RMSE: 3.2266843182278797\n",
      "MAE: 2.083333333333333\n"
     ]
    }
   ],
   "source": [
    "# experiment KNN\n",
    "y_pred = classify_KNN_avg(x_train, y_train, x_val, K=3)\n",
    "\n",
    "# RMS Error & MA Error\n",
    "print(f\"RMSE: {np.sqrt(np.mean((y_pred-y_val)**2))}\")\n",
    "print(f\"MAE: {np.median(np.abs(y_pred-y_val))}\")"
   ],
   "metadata": {
    "collapsed": false,
    "pycharm": {
     "name": "#%%\n"
    }
   }
  },
  {
   "cell_type": "code",
   "source": [
    "class NaiveBayesGaussian:\n",
    "\n",
    "    def __init__(self, std_prior=0):\n",
    "        self.mu = None\n",
    "        self.std = None\n",
    "        self.std_prior = 0\n",
    "\n",
    "    def train(self, X, y):\n",
    "        \"\"\"\n",
    "        Train NB, assuming that X[f]-y is a Gaussian\n",
    "        Input: X[i] is the ith training data. y[i] is the ith training label. std_prior is a value to add to std\n",
    "        \"\"\"\n",
    "        self.mu = np.mean(np.expand_dims(y, axis=1) - X, axis=0)\n",
    "        self.std = np.std(np.expand_dims(y, axis=1) - X, axis=0) + self.std_prior\n",
    "\n",
    "    def predict(self, X):\n",
    "        \"\"\"\n",
    "        Evaluate naive bayes for temp\n",
    "        Input: X is the test data\n",
    "        Output: return y_pred, where y_pred[i] is the predicted ith test value\n",
    "        \"\"\"\n",
    "        y_pred = np.zeros(X.shape[0])\n",
    "        w = 1 / self.std ** 2\n",
    "        for i in range(len(X)):\n",
    "            y_pred[i] = np.sum((X[i] + self.mu) * w) / np.sum(w)\n",
    "\n",
    "        return y_pred"
   ],
   "metadata": {
    "id": "u9i_hB-UQWDp",
    "pycharm": {
     "name": "#%%\n"
    }
   },
   "execution_count": 113,
   "outputs": []
  },
  {
   "cell_type": "code",
   "execution_count": 103,
   "outputs": [
    {
     "name": "stdout",
     "output_type": "stream",
     "text": [
      "RMSE: 3.784987716337962\n",
      "MAE: 2.463307258022755\n"
     ]
    }
   ],
   "source": [
    "# experiment GaussianNB\n",
    "NBG = NaiveBayesGaussian()\n",
    "NBG.train(x_train, y_train)\n",
    "y_pred = NBG.predict(x_val)\n",
    "\n",
    "# RMS Error & MA Error\n",
    "print(f\"RMSE: {np.sqrt(np.mean((y_pred-y_val)**2))}\")\n",
    "print(f\"MAE: {np.median(np.abs(y_pred-y_val))}\")"
   ],
   "metadata": {
    "collapsed": false,
    "pycharm": {
     "name": "#%%\n"
    }
   }
  },
  {
   "cell_type": "code",
   "source": [
    "# Don't forget linear regression!\n",
    "clf = Ridge().fit(x_train, y_train)\n",
    "y_pred = clf.predict(x_val)\n",
    "\n",
    "# RMS Error & MA Error\n",
    "print(f\"RMSE: {np.sqrt(np.mean((y_pred-y_val)**2))}\")\n",
    "print(f\"MAE: {np.median(np.abs(y_pred-y_val))}\")"
   ],
   "metadata": {
    "id": "Un086lGzbQfQ",
    "pycharm": {
     "name": "#%%\n"
    }
   },
   "execution_count": 3,
   "outputs": [
    {
     "name": "stdout",
     "output_type": "stream",
     "text": [
      "RMSE: 2.4382370170678724\n",
      "MAE: 1.631913107117736\n"
     ]
    }
   ]
  },
  {
   "cell_type": "code",
   "source": [
    "# Feature analysis\n",
    "clf = Lasso().fit(x_train, y_train)\n",
    "print(f\"Feature coefficients having magnitude greater than 0.001: {np.sum(clf.coef_ > 0.001)} \\n\")\n",
    "feature_idx = np.argsort(np.abs(clf.coef_))[-10:][::-1]\n",
    "\n",
    "for idx in feature_idx:\n",
    "    print(f\"Feature number: {idx} | City: {feature_to_city[idx]} | Day: {feature_to_day[idx]}\")"
   ],
   "metadata": {
    "id": "3rehsXx0cZOh",
    "pycharm": {
     "name": "#%%\n"
    }
   },
   "execution_count": 5,
   "outputs": [
    {
     "name": "stdout",
     "output_type": "stream",
     "text": [
      "Feature coefficients having magnitude greater than 0.001: 11 \n",
      "\n",
      "Feature number: 334 | City: Chicago | Day: -1\n",
      "Feature number: 347 | City: Minneapolis | Day: -1\n",
      "Feature number: 405 | City: Grand Rapids | Day: -1\n",
      "Feature number: 366 | City: Kansas City | Day: -1\n",
      "Feature number: 361 | City: Cleveland | Day: -1\n",
      "Feature number: 307 | City: Omaha | Day: -2\n",
      "Feature number: 367 | City: Indianapolis | Day: -1\n",
      "Feature number: 264 | City: Minneapolis | Day: -2\n",
      "Feature number: 9 | City: Boston | Day: -5\n",
      "Feature number: 236 | City: Springfield | Day: -3\n"
     ]
    }
   ]
  },
  {
   "cell_type": "code",
   "execution_count": 118,
   "outputs": [
    {
     "name": "stdout",
     "output_type": "stream",
     "text": [
      "KNN: \n",
      "RMSE: 2.8231963490998595\n",
      "MAE: 1.5666666666666664\n",
      "\n",
      "Gaussian NB: \n",
      "RMSE: 2.789998187480326\n",
      "MAE: 1.5111610645297242\n",
      "\n",
      "Linear Regression\n",
      "RMSE: 2.261976344855621\n",
      "MAE: 1.2403423472847344\n"
     ]
    }
   ],
   "source": [
    "# experiment new feature\n",
    "x_train_10 = x_train[:, feature_idx]\n",
    "x_val_10 = x_val[:, feature_idx]\n",
    "\n",
    "# KNN\n",
    "print(\"KNN: \")\n",
    "y_pred = classify_KNN_avg(x_train_10, y_train, x_val_10, K=3)\n",
    "\n",
    "print(f\"RMSE: {np.sqrt(np.mean((y_pred-y_val)**2))}\")\n",
    "print(f\"MAE: {np.median(np.abs(y_pred-y_val))}\")\n",
    "\n",
    "# GaussianNB\n",
    "print(\"\\nGaussian NB: \")\n",
    "NBG = NaiveBayesGaussian()\n",
    "NBG.train(x_train_10, y_train)\n",
    "y_pred = NBG.predict(x_val_10)\n",
    "\n",
    "print(f\"RMSE: {np.sqrt(np.mean((y_pred-y_val)**2))}\")\n",
    "print(f\"MAE: {np.median(np.abs(y_pred-y_val))}\")\n",
    "\n",
    "# LR\n",
    "print(\"\\nLinear Regression\")\n",
    "clf = Ridge().fit(x_train_10, y_train)\n",
    "y_pred = clf.predict(x_val_10)\n",
    "\n",
    "print(f\"RMSE: {np.sqrt(np.mean((y_pred-y_val)**2))}\")\n",
    "print(f\"MAE: {np.median(np.abs(y_pred-y_val))}\")"
   ],
   "metadata": {
    "collapsed": false,
    "pycharm": {
     "name": "#%%\n"
    }
   }
  },
  {
   "cell_type": "markdown",
   "source": [
    "## Part 3: Stretch Goals\n",
    "Include all your code used for part 3 in this section. You can copy-paste code from parts 1 or 2 if it is re-usable."
   ],
   "metadata": {
    "id": "3X3j_efPhh6e",
    "pycharm": {
     "name": "#%% md\n"
    }
   }
  },
  {
   "cell_type": "markdown",
   "source": [
    "### a) Improve MNIST classification"
   ],
   "metadata": {
    "collapsed": false,
    "pycharm": {
     "name": "#%% md\n"
    }
   }
  },
  {
   "cell_type": "code",
   "execution_count": 138,
   "outputs": [],
   "source": [
    "from scipy.ndimage.interpolation import shift"
   ],
   "metadata": {
    "collapsed": false,
    "pycharm": {
     "name": "#%%\n"
    }
   }
  },
  {
   "cell_type": "code",
   "execution_count": 139,
   "outputs": [
    {
     "data": {
      "text/plain": "(50000, 784)"
     },
     "execution_count": 139,
     "metadata": {},
     "output_type": "execute_result"
    }
   ],
   "source": [
    "(x_train, y_train), (x_test, y_test) = mnist.load_data()\n",
    "x_train = np.reshape(x_train, (len(x_train), 28*28))\n",
    "x_test = np.reshape(x_test, (len(x_test), 28*28))\n",
    "maxval = x_train.max()\n",
    "x_train = x_train/maxval\n",
    "x_test = x_test/maxval\n",
    "x_val = x_train[:10000]\n",
    "y_val = y_train[:10000]\n",
    "x_train = x_train[10000:]\n",
    "y_train = y_train[10000:]\n",
    "x_train.shape"
   ],
   "metadata": {
    "collapsed": false,
    "pycharm": {
     "name": "#%%\n"
    }
   }
  },
  {
   "cell_type": "code",
   "execution_count": 140,
   "outputs": [
    {
     "name": "stdout",
     "output_type": "stream",
     "text": [
      "Validation error: 0.0753\n",
      "Validation error: 0.0737\n"
     ]
    }
   ],
   "source": [
    "clf = LogisticRegression().fit(x_train, y_train)\n",
    "y_pred_val = clf.predict(x_val)\n",
    "print(f\"Validation error: {np.sum(y_pred_val != y_val) / y_pred_val.shape[0]}\")\n",
    "y_pred_test = clf.predict(x_test)\n",
    "print(f\"Validation error: {np.sum(y_pred_test != y_test) / y_pred_test.shape[0]}\")"
   ],
   "metadata": {
    "collapsed": false,
    "pycharm": {
     "name": "#%%\n"
    }
   }
  },
  {
   "cell_type": "code",
   "execution_count": 141,
   "outputs": [],
   "source": [
    "# data argumentation\n",
    "\n",
    "def shift_image(image, dx, dy):\n",
    "    image = image.reshape((28, 28))\n",
    "    shifted_image = shift(image, [dy, dx], cval=0, mode=\"constant\")\n",
    "    return shifted_image.reshape([-1])\n",
    "\n",
    "X_train_augmented = [image for image in x_train]\n",
    "y_train_augmented = [image for image in y_train]\n",
    "\n",
    "for dx, dy in ((1,0), (-1,0), (0,1), (0,-1)):\n",
    "     for image, label in zip(x_train, y_train):\n",
    "             X_train_augmented.append(shift_image(image, dx, dy))\n",
    "             y_train_augmented.append(label)\n",
    "\n",
    "\n",
    "# Shuffle the dataset\n",
    "shuffle_idx = np.random.permutation(len(X_train_augmented))\n",
    "X_train_augmented = np.array(X_train_augmented)[shuffle_idx]\n",
    "y_train_augmented = np.array(y_train_augmented)[shuffle_idx]"
   ],
   "metadata": {
    "collapsed": false,
    "pycharm": {
     "name": "#%%\n"
    }
   }
  },
  {
   "cell_type": "code",
   "execution_count": null,
   "outputs": [],
   "source": [
    "clf = LogisticRegression(C=0.4, multi_class='multinomial', penalty='l2', solver='sag')\n",
    "clf.fit(X_train_augmented, y_train_augmented)\n",
    "y_pred = clf.predict(x_val)\n",
    "print(f\"Validation error: {np.sum(y_pred != y_val) / y_pred.shape[0]}\")"
   ],
   "metadata": {
    "collapsed": false,
    "pycharm": {
     "name": "#%%\n"
    }
   }
  },
  {
   "cell_type": "code",
   "execution_count": null,
   "outputs": [],
   "source": [],
   "metadata": {
    "collapsed": false,
    "pycharm": {
     "name": "#%%\n"
    }
   }
  },
  {
   "cell_type": "code",
   "execution_count": null,
   "outputs": [],
   "source": [
    "### b) Improve Temperature regression performance"
   ],
   "metadata": {
    "collapsed": false,
    "pycharm": {
     "name": "#%%\n"
    }
   }
  },
  {
   "cell_type": "code",
   "source": [
    "# Don't forget linear regression!\n",
    "clf = Ridge().fit(x_train, y_train)\n",
    "y_pred = clf.predict(x_val)\n",
    "\n",
    "# RMS Error & MA Error\n",
    "print(\"Val: \")\n",
    "print(f\"RMSE: {np.sqrt(np.mean((y_pred-y_val)**2))}\")\n",
    "# print(f\"MAE: {np.median(np.abs(y_pred-y_val))}\")\n",
    "\n",
    "y_pred = clf.predict(x_test)\n",
    "print(\"Test: \")\n",
    "print(f\"RMSE: {np.sqrt(np.mean((y_pred-y_test)**2))}\")"
   ],
   "metadata": {
    "id": "b5SnDgjKVdLJ",
    "pycharm": {
     "name": "#%%\n"
    }
   },
   "execution_count": 146,
   "outputs": [
    {
     "name": "stdout",
     "output_type": "stream",
     "text": [
      "Val: \n",
      "RMSE: 2.4382370170678724\n",
      "Test: \n",
      "RMSE: 2.1608605260813167\n"
     ]
    }
   ]
  },
  {
   "cell_type": "code",
   "execution_count": 157,
   "outputs": [
    {
     "name": "stdout",
     "output_type": "stream",
     "text": [
      "Feature coefficients having magnitude greater than 0.001: 13 \n",
      "\n"
     ]
    }
   ],
   "source": [
    "# Feature analysis\n",
    "clf = Lasso(alpha=0.75).fit(x_train, y_train)\n",
    "print(f\"Feature coefficients having magnitude greater than 0.001: {np.sum(clf.coef_ > 0.001)} \\n\")\n",
    "feature_idx = np.argsort(np.abs(clf.coef_))[-16:][::-1]"
   ],
   "metadata": {
    "collapsed": false,
    "pycharm": {
     "name": "#%%\n"
    }
   }
  },
  {
   "cell_type": "code",
   "execution_count": 158,
   "outputs": [],
   "source": [
    "# experiment new feature\n",
    "x_train_filter = x_train[:, feature_idx]\n",
    "x_val_filter = x_val[:, feature_idx]\n",
    "x_test_filter = x_test[:, feature_idx]"
   ],
   "metadata": {
    "collapsed": false,
    "pycharm": {
     "name": "#%%\n"
    }
   }
  },
  {
   "cell_type": "code",
   "execution_count": 162,
   "outputs": [
    {
     "name": "stdout",
     "output_type": "stream",
     "text": [
      "Val: \n",
      "RMSE: 2.2531446688322156\n",
      "Test: \n",
      "RMSE: 2.049356352970692\n"
     ]
    }
   ],
   "source": [
    "clf = Ridge(alpha=0.6, solver='svd').fit(x_train_filter, y_train)\n",
    "y_pred = clf.predict(x_val_filter)\n",
    "print(\"Val: \")\n",
    "print(f\"RMSE: {np.sqrt(np.mean((y_pred-y_val)**2))}\")\n",
    "# print(f\"MAE: {np.median(np.abs(y_pred-y_val))}\")\n",
    "y_pred = clf.predict(x_test_filter)\n",
    "print(\"Test: \")\n",
    "print(f\"RMSE: {np.sqrt(np.mean((y_pred-y_test)**2))}\")\n",
    "# print(f\"MAE: {np.median(np.abs(y_pred-y_test))}\")"
   ],
   "metadata": {
    "collapsed": false,
    "pycharm": {
     "name": "#%%\n"
    }
   }
  },
  {
   "cell_type": "code",
   "execution_count": 108,
   "outputs": [],
   "source": [],
   "metadata": {
    "collapsed": false,
    "pycharm": {
     "name": "#%%\n"
    }
   }
  },
  {
   "cell_type": "code",
   "execution_count": null,
   "outputs": [],
   "source": [],
   "metadata": {
    "collapsed": false,
    "pycharm": {
     "name": "#%%\n"
    }
   }
  },
  {
   "cell_type": "code",
   "execution_count": null,
   "outputs": [],
   "source": [],
   "metadata": {
    "collapsed": false,
    "pycharm": {
     "name": "#%%\n"
    }
   }
  }
 ],
 "metadata": {
  "colab": {
   "provenance": []
  },
  "kernelspec": {
   "display_name": "Python 3",
   "language": "python",
   "name": "python3"
  },
  "language_info": {
   "codemirror_mode": {
    "name": "ipython",
    "version": 3
   },
   "file_extension": ".py",
   "mimetype": "text/x-python",
   "name": "python",
   "nbconvert_exporter": "python",
   "pygments_lexer": "ipython3",
   "version": "3.7.6"
  },
  "gpuClass": "standard",
  "accelerator": "GPU"
 },
 "nbformat": 4,
 "nbformat_minor": 0
}