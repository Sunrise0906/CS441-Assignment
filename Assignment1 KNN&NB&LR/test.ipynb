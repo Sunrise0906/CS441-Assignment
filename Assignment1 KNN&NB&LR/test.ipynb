{
 "cells": [
  {
   "cell_type": "code",
   "execution_count": 1,
   "outputs": [],
   "source": [
    "# initialization code\n",
    "import numpy as np\n",
    "from keras.datasets import mnist\n",
    "%matplotlib inline\n",
    "from matplotlib import pyplot as plt\n",
    "from scipy import stats\n",
    "from sklearn.linear_model import LogisticRegression\n",
    "from scipy.ndimage.interpolation import shift\n",
    "\n",
    "import warnings\n",
    "warnings.filterwarnings('ignore')"
   ],
   "metadata": {
    "collapsed": false,
    "pycharm": {
     "name": "#%%\n"
    }
   }
  },
  {
   "cell_type": "code",
   "execution_count": 2,
   "outputs": [
    {
     "data": {
      "text/plain": "(50000, 784)"
     },
     "execution_count": 2,
     "metadata": {},
     "output_type": "execute_result"
    }
   ],
   "source": [
    "(x_train, y_train), (x_test, y_test) = mnist.load_data()\n",
    "x_train = np.reshape(x_train, (len(x_train), 28*28))\n",
    "x_test = np.reshape(x_test, (len(x_test), 28*28))\n",
    "maxval = x_train.max()\n",
    "x_train = x_train/maxval\n",
    "x_test = x_test/maxval\n",
    "x_val = x_train[:10000]\n",
    "y_val = y_train[:10000]\n",
    "x_train = x_train[10000:]\n",
    "y_train = y_train[10000:]\n",
    "x_train.shape"
   ],
   "metadata": {
    "collapsed": false,
    "pycharm": {
     "name": "#%%\n"
    }
   }
  },
  {
   "cell_type": "code",
   "execution_count": null,
   "outputs": [],
   "source": [],
   "metadata": {
    "collapsed": false,
    "pycharm": {
     "name": "#%%\n"
    }
   }
  },
  {
   "cell_type": "code",
   "execution_count": 3,
   "outputs": [
    {
     "name": "stdout",
     "output_type": "stream",
     "text": [
      "Validation error: 0.0753\n",
      "Validation error: 0.0737\n"
     ]
    }
   ],
   "source": [
    "clf = LogisticRegression().fit(x_train, y_train)\n",
    "y_pred_val = clf.predict(x_val)\n",
    "print(f\"Validation error: {np.sum(y_pred_val != y_val) / y_pred_val.shape[0]}\")\n",
    "y_pred_test = clf.predict(x_test)\n",
    "print(f\"Validation error: {np.sum(y_pred_test != y_test) / y_pred_test.shape[0]}\")"
   ],
   "metadata": {
    "collapsed": false,
    "pycharm": {
     "name": "#%%\n"
    }
   }
  },
  {
   "cell_type": "code",
   "execution_count": 13,
   "outputs": [
    {
     "name": "stdout",
     "output_type": "stream",
     "text": [
      "Validation error: 0.0747\n",
      "Validation error: 0.0728\n"
     ]
    }
   ],
   "source": [
    "clf = LogisticRegression(C=0.4, multi_class='multinomial', penalty='l2', solver='sag').fit(x_train, y_train)\n",
    "y_pred_val = clf.predict(x_val)\n",
    "print(f\"Validation error: {np.sum(y_pred_val != y_val) / y_pred_val.shape[0]}\")\n",
    "y_pred_test = clf.predict(x_test)\n",
    "print(f\"Validation error: {np.sum(y_pred_test != y_test) / y_pred_test.shape[0]}\")"
   ],
   "metadata": {
    "collapsed": false,
    "pycharm": {
     "name": "#%%\n"
    }
   }
  },
  {
   "cell_type": "code",
   "execution_count": 4,
   "outputs": [],
   "source": [
    "# data argumentation\n",
    "\n",
    "def shift_image(image, dx, dy):\n",
    "    image = image.reshape((28, 28))\n",
    "    shifted_image = shift(image, [dy, dx], cval=0, mode=\"constant\")\n",
    "    return shifted_image.reshape([-1])\n",
    "\n",
    "X_train_augmented = [image for image in x_train]\n",
    "y_train_augmented = [image for image in y_train]\n",
    "\n",
    "for dx, dy in ((1,0), (-1,0), (0,1), (0,-1)):\n",
    "     for image, label in zip(x_train, y_train):\n",
    "             X_train_augmented.append(shift_image(image, dx, dy))\n",
    "             y_train_augmented.append(label)\n",
    "\n",
    "\n",
    "# Shuffle the dataset\n",
    "shuffle_idx = np.random.permutation(len(X_train_augmented))\n",
    "X_train_augmented = np.array(X_train_augmented)[shuffle_idx]\n",
    "y_train_augmented = np.array(y_train_augmented)[shuffle_idx]"
   ],
   "metadata": {
    "collapsed": false,
    "pycharm": {
     "name": "#%%\n"
    }
   }
  },
  {
   "cell_type": "code",
   "execution_count": 11,
   "outputs": [
    {
     "name": "stdout",
     "output_type": "stream",
     "text": [
      "Validation error: 0.0772\n"
     ]
    }
   ],
   "source": [
    "clf = LogisticRegression(C=0.4, multi_class='multinomial', penalty='l2', solver='sag')\n",
    "clf.fit(X_train_augmented, y_train_augmented)\n",
    "y_pred = clf.predict(x_val)\n",
    "print(f\"Validation error: {np.sum(y_pred != y_val) / y_pred.shape[0]}\")"
   ],
   "metadata": {
    "collapsed": false,
    "pycharm": {
     "name": "#%%\n"
    }
   }
  },
  {
   "cell_type": "code",
   "execution_count": 14,
   "outputs": [
    {
     "name": "stdout",
     "output_type": "stream",
     "text": [
      "Validation error: 0.0728\n"
     ]
    }
   ],
   "source": [
    "# test\n",
    "y_pred = clf.predict(x_test)\n",
    "print(f\"Validation error: {np.sum(y_pred != y_test) / y_pred.shape[0]}\")"
   ],
   "metadata": {
    "collapsed": false,
    "pycharm": {
     "name": "#%%\n"
    }
   }
  },
  {
   "cell_type": "code",
   "execution_count": null,
   "outputs": [],
   "source": [],
   "metadata": {
    "collapsed": false,
    "pycharm": {
     "name": "#%%\n"
    }
   }
  }
 ],
 "metadata": {
  "kernelspec": {
   "display_name": "Python 3",
   "language": "python",
   "name": "python3"
  },
  "language_info": {
   "codemirror_mode": {
    "name": "ipython",
    "version": 2
   },
   "file_extension": ".py",
   "mimetype": "text/x-python",
   "name": "python",
   "nbconvert_exporter": "python",
   "pygments_lexer": "ipython2",
   "version": "2.7.6"
  }
 },
 "nbformat": 4,
 "nbformat_minor": 0
}